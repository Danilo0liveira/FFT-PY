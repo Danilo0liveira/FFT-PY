{
 "cells": [
  {
   "cell_type": "code",
   "execution_count": 380,
   "metadata": {},
   "outputs": [],
   "source": [
    "import numpy as np\n",
    "from fixedpoint import FixedPoint"
   ]
  },
  {
   "cell_type": "code",
   "execution_count": 381,
   "metadata": {},
   "outputs": [
    {
     "data": {
      "text/plain": [
       "'cb8e35d2\\n9d89d848\\n537156d9\\n57b7d22b\\n72b616ec\\n6bd8bb20\\ne5ee447c\\ne2690140'"
      ]
     },
     "execution_count": 381,
     "metadata": {},
     "output_type": "execute_result"
    }
   ],
   "source": [
    "'''cb8e35d2\n",
    "9d89d848\n",
    "537156d9\n",
    "57b7d22b\n",
    "72b616ec\n",
    "6bd8bb20\n",
    "e5ee447c\n",
    "e2690140'''"
   ]
  },
  {
   "cell_type": "code",
   "execution_count": 382,
   "metadata": {},
   "outputs": [],
   "source": [
    "x_real = ['0x'+'0cb8e35d2', '0x' + '0537156d9', '0x' + '072b616ec', '0x' + '0e5ee447c']\n",
    "x_imag = ['0x'+'09d89d848', '0x' + '057b7d22b', '0x' + '06bd8bb20', '0x' + '0e2690140']"
   ]
  },
  {
   "cell_type": "code",
   "execution_count": 383,
   "metadata": {},
   "outputs": [],
   "source": [
    "def fixed_point(bits, signed=1, m=17, n=16):\n",
    "    return float(FixedPoint(bits, signed, m, n))"
   ]
  },
  {
   "cell_type": "code",
   "execution_count": 384,
   "metadata": {},
   "outputs": [],
   "source": [
    "x_real_decimal = list(map(fixed_point, x_real))\n",
    "x_imag_decimal = list(map(fixed_point, x_imag))"
   ]
  },
  {
   "cell_type": "code",
   "execution_count": 385,
   "metadata": {},
   "outputs": [
    {
     "data": {
      "text/plain": [
       "[(52110.2102355957, 40329.84484863281),\n",
       " (21361.339248657227, 22455.82096862793),\n",
       " (29366.08953857422, 27608.73095703125),\n",
       " (58862.267517089844, 57961.0048828125)]"
      ]
     },
     "execution_count": 385,
     "metadata": {},
     "output_type": "execute_result"
    }
   ],
   "source": [
    "list(zip(x_real_decimal, x_imag_decimal))"
   ]
  },
  {
   "cell_type": "code",
   "execution_count": 386,
   "metadata": {},
   "outputs": [
    {
     "data": {
      "text/plain": [
       "(11793.513244628906, 'Q16.16')"
      ]
     },
     "execution_count": 386,
     "metadata": {},
     "output_type": "execute_result"
    }
   ],
   "source": [
    "signed, m, n = 1, 16, 16\n",
    "bits = \"0x2E118364\"\n",
    "x = FixedPoint(bits, signed, m, n)\n",
    "\n",
    "float(x), x.qformat"
   ]
  },
  {
   "cell_type": "code",
   "execution_count": 387,
   "metadata": {},
   "outputs": [],
   "source": [
    "def butterfly(xev_r, xev_i, xod_r, xod_i, N):\n",
    "\n",
    "    k = np.arange(0, N/2)\n",
    "\n",
    "    wr = np.cos(-2*np.pi*k/N)\n",
    "    wi = np.sin(-2*np.pi*k/N)\n",
    "\n",
    "    g1 = wr*xod_r - wi*xod_i\n",
    "    g2 = wr*xod_i - wi*xod_r\n",
    "\n",
    "    y_re = np.concatenate((xev_r + g1, xev_r - g1))\n",
    "    y_im = np.concatenate((xev_i + g2, xev_i - g2))\n",
    "\n",
    "    return y_re, y_im\n",
    "\n",
    "def matrix_computation(x_re, x_im):\n",
    "    N = len(x_re)\n",
    "\n",
    "    k = np.arange(0, N)\n",
    "    \n",
    "    kj = np.kron(k, k)\n",
    "\n",
    "    F_re = np.cos(-2*np.pi * kj / N)\n",
    "    F_im = np.sin(-2*np.pi * kj / N)\n",
    "\n",
    "    y_re = np.sum(F_re*x_re - F_im*x_im)\n",
    "    y_im = np.sum(F_re*x_im - F_im*x_re)\n",
    "\n",
    "    return y_re, y_im\n",
    "\n",
    "def FFT(x_re, x_im):\n",
    "    N = len(x_re)\n",
    "    \n",
    "    if N % 2 == 0:\n",
    "        xev_r = x_re[::2]\n",
    "        xev_i = x_im[::2]\n",
    "\n",
    "        xod_r = x_re[1::2]\n",
    "        xod_i = x_im[1::2]\n",
    "\n",
    "        Xev_r, Xev_i = FFT(xev_r, xev_i)\n",
    "        Xod_r, Xod_i = FFT(xod_r, xod_i)\n",
    "\n",
    "        yr, yi = butterfly(Xev_r, Xev_i, Xod_r, Xod_i, N)\n",
    "    else:\n",
    "        yr, yi = matrix_computation(x_re, x_im)\n",
    "\n",
    "    return yr, yi\n",
    "\n",
    "def iFFT(x_re, x_im):\n",
    "    N = len(x_re)\n",
    "    Xre, Xim    = FFT(x_re, x_im)\n",
    "\n",
    "    return Xre/N, Xim/N"
   ]
  },
  {
   "cell_type": "code",
   "execution_count": 395,
   "metadata": {},
   "outputs": [],
   "source": [
    "y_r, y_i = FFT(x_real_decimal, x_imag_decimal)"
   ]
  },
  {
   "cell_type": "code",
   "execution_count": 389,
   "metadata": {},
   "outputs": [],
   "source": [
    "def fixed_point_ftoh(float_nm, signed=1, m=20, n=16):\n",
    "    return str(FixedPoint(float_nm, signed, m, n, str_base=16))"
   ]
  },
  {
   "cell_type": "code",
   "execution_count": 390,
   "metadata": {},
   "outputs": [
    {
     "data": {
      "text/plain": [
       "[(161699.906539917, 148355.4016571045),\n",
       " (-12761.063217163086, -24779.814376831055),\n",
       " (1252.6930084228516, -12478.250045776367),\n",
       " (58249.304611206055, 50222.04216003418)]"
      ]
     },
     "execution_count": 390,
     "metadata": {},
     "output_type": "execute_result"
    }
   ],
   "source": [
    "list(zip(y_r, y_i))"
   ]
  },
  {
   "cell_type": "code",
   "execution_count": 391,
   "metadata": {},
   "outputs": [],
   "source": [
    "y_real_hex = list(map(fixed_point_ftoh, y_r))\n",
    "y_imag_hex = list(map(fixed_point_ftoh, y_i))"
   ]
  },
  {
   "cell_type": "code",
   "execution_count": 392,
   "metadata": {},
   "outputs": [
    {
     "data": {
      "text/plain": [
       "['277a3e813', 'fce26efd1', '004e4b169', '0e3894dfb']"
      ]
     },
     "execution_count": 392,
     "metadata": {},
     "output_type": "execute_result"
    }
   ],
   "source": [
    "y_real_hex"
   ]
  },
  {
   "cell_type": "code",
   "execution_count": 393,
   "metadata": {},
   "outputs": [
    {
     "data": {
      "text/plain": [
       "['2438366d3', 'f9f342f85', 'fcf41bffd', '0c42e0acb']"
      ]
     },
     "execution_count": 393,
     "metadata": {},
     "output_type": "execute_result"
    }
   ],
   "source": [
    "y_imag_hex"
   ]
  }
 ],
 "metadata": {
  "kernelspec": {
   "display_name": "py310",
   "language": "python",
   "name": "python3"
  },
  "language_info": {
   "codemirror_mode": {
    "name": "ipython",
    "version": 3
   },
   "file_extension": ".py",
   "mimetype": "text/x-python",
   "name": "python",
   "nbconvert_exporter": "python",
   "pygments_lexer": "ipython3",
   "version": "3.10.13"
  }
 },
 "nbformat": 4,
 "nbformat_minor": 2
}
