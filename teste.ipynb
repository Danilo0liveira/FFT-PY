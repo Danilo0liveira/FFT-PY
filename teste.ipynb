{
 "cells": [
  {
   "cell_type": "code",
   "execution_count": 7,
   "metadata": {},
   "outputs": [],
   "source": [
    "import numpy as np\n",
    "from fixedpoint import FixedPoint"
   ]
  },
  {
   "cell_type": "code",
   "execution_count": 33,
   "metadata": {},
   "outputs": [
    {
     "data": {
      "text/plain": [
       "(11793.513244628906, 'Q16.16')"
      ]
     },
     "execution_count": 33,
     "metadata": {},
     "output_type": "execute_result"
    }
   ],
   "source": [
    "signed, m, n = 1, 16, 16\n",
    "bits = \"0b00101110000100011000001101100100\"\n",
    "x = FixedPoint(bits, signed, m, n)\n",
    "float(x), x.qformat"
   ]
  },
  {
   "cell_type": "code",
   "execution_count": 9,
   "metadata": {},
   "outputs": [],
   "source": [
    "def butterfly(xev_r, xev_i, xod_r, xod_i, N):\n",
    "\n",
    "    k = np.arange(0, N/2)\n",
    "\n",
    "    wr = np.cos(-2*np.pi*k/N)\n",
    "    wi = np.sin(-2*np.pi*k/N)\n",
    "\n",
    "    g1 = wr*xod_r - wi*xod_i\n",
    "    g2 = wr*xod_i - wi*xod_r\n",
    "\n",
    "    y_re = np.concatenate(xev_r + g1, xev_r - g1)\n",
    "    y_im = np.concatenate(xev_i + g2, xev_i - g2)\n",
    "\n",
    "    return y_re, y_im\n",
    "\n",
    "def matrix_computation(x_re, x_im):\n",
    "    N = len(x_re)\n",
    "\n",
    "    k = np.arange(0, N)\n",
    "    \n",
    "    kj = np.kron(k, k)\n",
    "\n",
    "    F_re = np.cos(-2*np.pi * kj / N)\n",
    "    F_im = np.sin(-2*np.pi * kj / N)\n",
    "\n",
    "    y_re = np.sum(F_re*x_re - F_im*x_im)\n",
    "    y_im = np.sum(F_re*x_im - F_im*x_re)\n",
    "\n",
    "    return y_re, y_im\n",
    "\n",
    "def FFT(x_re, x_im):\n",
    "    N = len(x_re)\n",
    "    \n",
    "    if N % 2 == 0:\n",
    "        xev_r = x_re[::2]\n",
    "        xev_i = x_im[::2]\n",
    "\n",
    "        xod_r = x_re[1::2]\n",
    "        xod_i = x_im[1::2]\n",
    "\n",
    "        Xev_r, Xev_i = FFT(xev_r, xev_i)\n",
    "        Xod_r, Xod_i = FFT(xod_r, xod_i)\n",
    "\n",
    "        yr, yi = butterfly(Xev_r, Xev_i, Xod_r, Xod_i, N)\n",
    "    else:\n",
    "        yr, yi = matrix_computation(x_re, x_im)\n",
    "\n",
    "    return yr, yi\n",
    "\n",
    "def iFFT(x_re, x_im):\n",
    "    N = len(x_re)\n",
    "    Xre, Xim = FFT(x_re, x_im)\n",
    "\n",
    "    return Xre/N, Xim/N"
   ]
  }
 ],
 "metadata": {
  "kernelspec": {
   "display_name": "py310",
   "language": "python",
   "name": "python3"
  },
  "language_info": {
   "codemirror_mode": {
    "name": "ipython",
    "version": 3
   },
   "file_extension": ".py",
   "mimetype": "text/x-python",
   "name": "python",
   "nbconvert_exporter": "python",
   "pygments_lexer": "ipython3",
   "version": "3.10.13"
  }
 },
 "nbformat": 4,
 "nbformat_minor": 2
}
